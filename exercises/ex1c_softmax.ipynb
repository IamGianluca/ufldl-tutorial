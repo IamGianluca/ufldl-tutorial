{
 "cells": [
  {
   "cell_type": "markdown",
   "metadata": {},
   "source": [
    "# Softmax Regression\n",
    "\n",
    "Softmax regression (or multinomial logistic regression) is a generalization of logistic regression to the case where we want to handle multiple classes. In logistic regression we assumed that the labels were binary: $ y_i \\in {0, 1}$. We used such a classifier to distinguish between two kinds of hand-written digits. Softmax regression allows us to handle $y_i \\in {1, \\dots,K}$ where $K$ is the number of classes.\n",
    "\n",
    "Recall that in logistic regression, we had a training set $(x_1, y_1), \\dots, (x_m, y_m)$ of m labeled examples, where the input features are $x_i  \\in R^n$. With logistic regression, we were in the binary classification setting, so the labels were $y_i \\in {0, 1}$. Our hypothesis took the form:\n",
    "\n",
    "$$\n",
    "h_{\\theta}(x) = \\frac{1}{1 + \\exp{−\\theta^TX}}\n",
    "$$\n",
    "\n",
    "and the model parameters $\\theta$ were trained to minimize the cost function\n",
    "\n",
    "$$\n",
    "J(\\theta) = −\\left[\\sum_{i = 1}^{M} y_i \\log h_{\\theta}(x_i) + (1 − y_i) \\log(1 − h_{\\theta}(x_i))\\right]\n",
    "$$\n",
    "\n",
    "In the softmax regression setting, we are interested in multi-class classification (as opposed to only binary classification), and so the label $y$ can take on $K$ different values, rather than only two. Thus, in our training set $(x_1, y_1), \\dots, (x_m, y_m)$, we now have that $y_i \\in {1, 2, \\dots, K}$. For example, in the MNIST digit recognition task, we would have K=10 different classes."
   ]
  },
  {
   "cell_type": "code",
   "execution_count": 1,
   "metadata": {
    "collapsed": true
   },
   "outputs": [],
   "source": [
    "%matplotlib inline\n",
    "\n",
    "import os\n",
    "import pickle\n",
    "\n",
    "import matplotlib.pyplot as plt\n",
    "import numpy as np\n",
    "\n",
    "from utils import load_cached_mnist\n",
    "from ufldl.linear_model import LogisticRegression\n",
    "from ufldl.datasets import load_mnist"
   ]
  },
  {
   "cell_type": "markdown",
   "metadata": {},
   "source": [
    "Due to the size of the MNIST dataset we decided to leave this source of data outside of the `ufldl` package, and download it separately. We built however a few helper functions to load and preprocess the dataset, since this will be reused later on in other exercises."
   ]
  },
  {
   "cell_type": "code",
   "execution_count": 4,
   "metadata": {},
   "outputs": [
    {
     "name": "stderr",
     "output_type": "stream",
     "text": [
      "/home/gianluca/git/ufldl-tutorial/src/ufldl/linear_model/logistic.py:144: RuntimeWarning: overflow encountered in exp\n",
      "  values = np.exp(np.dot(X, theta))\n",
      "/home/gianluca/git/ufldl-tutorial/src/ufldl/linear_model/logistic.py:146: RuntimeWarning: invalid value encountered in true_divide\n",
      "  return (values.T / sums).T\n",
      "/home/gianluca/git/ufldl-tutorial/src/ufldl/linear_model/logistic.py:135: RuntimeWarning: divide by zero encountered in log\n",
      "  log_probs = np.log(self.probs(theta, X))\n"
     ]
    },
    {
     "name": "stdout",
     "output_type": "stream",
     "text": [
      "Train accuracy: 73.67%\n",
      "Misclassified observations: 15801 / 60000\n"
     ]
    }
   ],
   "source": [
    "# load training dataset\n",
    "X_train, y_train = load_cached_mnist(type_='train')\n",
    "\n",
    "# train softmax regression classifier\n",
    "model = LogisticRegression(fit_intercept=True, multi_class='multinomial')\n",
    "model.fit(X=X_train, y=y_train)\n",
    "\n",
    "# compute accuracy on training set\n",
    "predicted_train_digit = model.predict(X=X_train)\n",
    "correct = np.sum(y_train == predicted_train_digit)\n",
    "train_accuracy = correct / len(y_train)\n",
    "print('Train accuracy: {0:.2f}%'.format(train_accuracy * 100))\n",
    "print('Misclassified observations: {} / {}'.format(len(y_train) - correct, len(y_train)))"
   ]
  },
  {
   "cell_type": "code",
   "execution_count": 3,
   "metadata": {},
   "outputs": [
    {
     "data": {
      "text/plain": [
       "[]"
      ]
     },
     "execution_count": 3,
     "metadata": {},
     "output_type": "execute_result"
    },
    {
     "data": {
      "image/png": "[encoded data removed]",
      "text/plain": [
       "<matplotlib.figure.Figure at 0x7fd65434e828>"
      ]
     },
     "metadata": {},
     "output_type": "display_data"
    }
   ],
   "source": [
    "plt.plot(x=[i for i in range(len(model.j_history))], y=model.j_history)"
   ]
  },
  {
   "cell_type": "code",
   "execution_count": 5,
   "metadata": {},
   "outputs": [
    {
     "name": "stdout",
     "output_type": "stream",
     "text": [
      "Train accuracy: 93.96%\n",
      "Misclassified observations: 3622 / 60000\n"
     ]
    },
    {
     "name": "stderr",
     "output_type": "stream",
     "text": [
      "/home/gianluca/.virtualenvs/ufldl/lib/python3.5/site-packages/sklearn/linear_model/sag.py:286: ConvergenceWarning: The max_iter was reached which means the coef_ did not converge\n",
      "  \"the coef_ did not converge\", ConvergenceWarning)\n"
     ]
    }
   ],
   "source": [
    "from sklearn.linear_model import LogisticRegression as LogReg\n",
    "\n",
    "model = LogReg(fit_intercept=True, multi_class='multinomial', solver='sag')\n",
    "model.fit(X=X_train, y=y_train)\n",
    "\n",
    "# compute accuracy on training set\n",
    "predicted_train_digit = model.predict(X=X_train)\n",
    "correct = np.sum(y_train == predicted_train_digit)\n",
    "train_accuracy = correct / len(y_train)\n",
    "print('Train accuracy: {0:.2f}%'.format(train_accuracy * 100))\n",
    "print('Misclassified observations: {} / {}'.format(len(y_train) - correct, len(y_train)))"
   ]
  },
  {
   "cell_type": "markdown",
   "metadata": {},
   "source": [
    "We are able to achieve a perfect accuracy in the training set. This is remarkable, although results are inflated by the fact that the data has already been seen. Let's see how the algorithm performs in unseen data. We should expect performance to be a little worse, but hopefully not that much."
   ]
  },
  {
   "cell_type": "code",
   "execution_count": 13,
   "metadata": {},
   "outputs": [
    {
     "name": "stdout",
     "output_type": "stream",
     "text": [
      "Test accuracy: 99.86%\n",
      "Misclassified observations: 3 / 2115\n"
     ]
    },
    {
     "name": "stderr",
     "output_type": "stream",
     "text": [
      "/home/gianluca/git/ufldl-tutorial/src/ufldl/linear_model/logistic.py:62: RuntimeWarning: overflow encountered in exp\n",
      "  return 1 / (1 + np.exp(-z))\n"
     ]
    }
   ],
   "source": [
    "# compute accuracy on test set\n",
    "X_test, y_test = load_cached_mnist(type_='test')\n",
    "predicted_test_prices = model.predict(X=X_test)\n",
    "correct = np.sum(y_test == predicted_test_prices)\n",
    "test_accuracy = correct / len(y_test)\n",
    "print('Test accuracy: {0:.2f}%'.format(test_accuracy * 100))\n",
    "print('Misclassified observations: {} / {}'.format(len(y_test) - correct, len(y_test)))"
   ]
  },
  {
   "cell_type": "markdown",
   "metadata": {},
   "source": [
    "On the test set, performance are not that bad either. We are able to score an almost perfect accuracy, with only 3 observations out of more than 2,000 samples."
   ]
  },
  {
   "cell_type": "code",
   "execution_count": null,
   "metadata": {
    "collapsed": true
   },
   "outputs": [],
   "source": []
  }
 ],
 "metadata": {
  "kernelspec": {
   "display_name": "Python 3",
   "language": "python",
   "name": "python3"
  },
  "language_info": {
   "codemirror_mode": {
    "name": "ipython",
    "version": 3
   },
   "file_extension": ".py",
   "mimetype": "text/x-python",
   "name": "python",
   "nbconvert_exporter": "python",
   "pygments_lexer": "ipython3",
   "version": "3.5.2"
  }
 },
 "nbformat": 4,
 "nbformat_minor": 2
}
