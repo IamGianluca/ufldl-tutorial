{
 "cells": [
  {
   "cell_type": "markdown",
   "metadata": {},
   "source": [
    "# Linear regression"
   ]
  },
  {
   "cell_type": "code",
   "execution_count": 2,
   "metadata": {
    "collapsed": true
   },
   "outputs": [],
   "source": [
    "%matplotlib inline\n",
    "\n",
    "import matplotlib.pyplot as plt\n",
    "import numpy as np\n",
    "\n",
    "from ufldl.linear_model import LinearRegression\n",
    "from ufldl.datasets import load_housing"
   ]
  },
  {
   "cell_type": "code",
   "execution_count": 14,
   "metadata": {
    "collapsed": true
   },
   "outputs": [],
   "source": [
    "X = load_housing()\n",
    "\n",
    "# split into train and test sets\n",
    "np.random.shuffle(X)\n",
    "split = int(X.shape[0] * 0.8)\n",
    "train, test = X[:split, :], X[split:, :]\n",
    "\n",
    "X_train, y_train = train[:, :-1], train[:, -1]\n",
    "X_test, y_test = test[:, :-1], test[:, -1]"
   ]
  },
  {
   "cell_type": "code",
   "execution_count": 15,
   "metadata": {},
   "outputs": [
    {
     "name": "stdout",
     "output_type": "stream",
     "text": [
      "Train RMSE: 0.04033\n"
     ]
    }
   ],
   "source": [
    "model = LinearRegression(fit_intercept=True)\n",
    "model.fit(X=X_train, y=y_train)\n",
    "predicted_train_prices = model.predict(X=X_train)\n",
    "\n",
    "# print root mean squared error (RMSE) for training set\n",
    "train_rmse = np.sqrt(np.mean(predicted_train_prices - y_train) ** 2)\n",
    "\n",
    "print('Train RMSE: {:.4}'.format(train_rmse))"
   ]
  },
  {
   "cell_type": "code",
   "execution_count": 16,
   "metadata": {},
   "outputs": [
    {
     "name": "stdout",
     "output_type": "stream",
     "text": [
      "Test RMSE: 0.1439\n"
     ]
    },
    {
     "data": {
      "image/png": "[encoded data removed]",
      "text/plain": [
       "<matplotlib.figure.Figure at 0x7fbc8850b908>"
      ]
     },
     "metadata": {},
     "output_type": "display_data"
    }
   ],
   "source": [
    "# print RMSE on test set\n",
    "predicted_test_prices = model.predict(X=X_test)\n",
    "test_rmse = np.sqrt(np.mean(predicted_test_prices - y_test) ** 2)\n",
    "\n",
    "print('Test RMSE: {:.4}'.format(test_rmse))\n",
    "\n",
    "# plot predictions in test data\n",
    "prices = sorted(zip(y_test, predicted_test_prices))\n",
    "plt.scatter(x=range(len(y_test)), y=[y for y, y_hat in prices],\n",
    "            marker='x', color='red', label='Actual price')\n",
    "plt.scatter(x=range(len(y_test)), y=[y_hat for y, y_hat in prices],\n",
    "            marker='x', color='blue', label='Predicted price')\n",
    "plt.xlabel('House #')\n",
    "plt.ylabel('House price ($1000s)')\n",
    "plt.legend()\n",
    "plt.show()"
   ]
  },
  {
   "cell_type": "code",
   "execution_count": null,
   "metadata": {
    "collapsed": true
   },
   "outputs": [],
   "source": []
  }
 ],
 "metadata": {
  "kernelspec": {
   "display_name": "Python 3",
   "language": "python",
   "name": "python3"
  },
  "language_info": {
   "codemirror_mode": {
    "name": "ipython",
    "version": 3
   },
   "file_extension": ".py",
   "mimetype": "text/x-python",
   "name": "python",
   "nbconvert_exporter": "python",
   "pygments_lexer": "ipython3",
   "version": "3.5.2"
  }
 },
 "nbformat": 4,
 "nbformat_minor": 2
}
