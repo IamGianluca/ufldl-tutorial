{
 "cells": [
  {
   "cell_type": "markdown",
   "metadata": {},
   "source": [
    "# Logistic regression"
   ]
  },
  {
   "cell_type": "code",
   "execution_count": 2,
   "metadata": {
    "collapsed": true
   },
   "outputs": [],
   "source": [
    "import numpy as np\n",
    "\n",
    "from utils import load_cached_mnist\n",
    "from ufldl.linear_model import LogisticRegression"
   ]
  },
  {
   "cell_type": "code",
   "execution_count": 3,
   "metadata": {
    "collapsed": true
   },
   "outputs": [],
   "source": [
    "def consider_only_zero_and_one_examples(X, y):\n",
    "    \"\"\"Drop all records from the dataset where the label doesn't have a value\n",
    "    of either 0 or 1.\n",
    "\n",
    "    Args:\n",
    "        X: (array) The feature matrix.\n",
    "        y: (vector) The outcome vector.\n",
    "\n",
    "    Returns:\n",
    "        The feature matrix and outcome vector without the records where the\n",
    "        outcome value isn't either 0 or 1.\n",
    "    \"\"\"\n",
    "    include_idx = np.where(y < 2)[0]\n",
    "    return X[include_idx], y[include_idx]"
   ]
  },
  {
   "cell_type": "code",
   "execution_count": 4,
   "metadata": {},
   "outputs": [
    {
     "name": "stderr",
     "output_type": "stream",
     "text": [
      "/home/gianluca/git/ufldl-tutorial/src/ufldl/linear_model/logistic.py:99: RuntimeWarning: divide by zero encountered in log\n",
      "  return -np.sum(y * np.log(hypothesis) + (1 - y) * np.log(1 - hypothesis))\n",
      "/home/gianluca/git/ufldl-tutorial/src/ufldl/linear_model/logistic.py:82: RuntimeWarning: overflow encountered in exp\n",
      "  return 1 / (1 + np.exp(-z))\n",
      "/home/gianluca/git/ufldl-tutorial/src/ufldl/linear_model/logistic.py:99: RuntimeWarning: invalid value encountered in multiply\n",
      "  return -np.sum(y * np.log(hypothesis) + (1 - y) * np.log(1 - hypothesis))\n"
     ]
    },
    {
     "name": "stdout",
     "output_type": "stream",
     "text": [
      "Train accuracy: 100.00%\n"
     ]
    }
   ],
   "source": [
    "# load training dataset\n",
    "X_train_all, y_train_all = load_cached_mnist(type_='train')\n",
    "\n",
    "# NOTE: consider only images labelled as either 0 or 1\n",
    "X_train, y_train = consider_only_zero_and_one_examples(\n",
    "    X=X_train_all, y=y_train_all)\n",
    "\n",
    "# train logistic regression classifier\n",
    "model = LogisticRegression(fit_intercept=True)\n",
    "model.fit(X=X_train, y=y_train)\n",
    "\n",
    "# compute accuracy on training set\n",
    "predicted_train_digit = model.predict(X=X_train)\n",
    "correct = np.sum(y_train == predicted_train_digit)\n",
    "print('Train accuracy: {:.2%}'.format(correct / len(y_train)))"
   ]
  },
  {
   "cell_type": "code",
   "execution_count": 5,
   "metadata": {},
   "outputs": [
    {
     "name": "stdout",
     "output_type": "stream",
     "text": [
      "Test accuracy: 99.86%\n"
     ]
    },
    {
     "name": "stderr",
     "output_type": "stream",
     "text": [
      "/home/gianluca/git/ufldl-tutorial/src/ufldl/linear_model/logistic.py:82: RuntimeWarning: overflow encountered in exp\n",
      "  return 1 / (1 + np.exp(-z))\n"
     ]
    }
   ],
   "source": [
    "# compute accuracy on test set\n",
    "X_test_all, y_test_all = load_cached_mnist(type_='test')\n",
    "\n",
    "# NOTE: consider only `0` and `1` images\n",
    "X_test, y_test = consider_only_zero_and_one_examples(\n",
    "    X=X_test_all, y=y_test_all)\n",
    "\n",
    "predicted_test_prices = model.predict(X=X_test)\n",
    "correct = np.sum(y_test == predicted_test_prices)\n",
    "print('Test accuracy: {:.2%}'.format(correct / len(y_test)))"
   ]
  },
  {
   "cell_type": "code",
   "execution_count": null,
   "metadata": {
    "collapsed": true
   },
   "outputs": [],
   "source": []
  }
 ],
 "metadata": {
  "kernelspec": {
   "display_name": "Python 3",
   "language": "python",
   "name": "python3"
  },
  "language_info": {
   "codemirror_mode": {
    "name": "ipython",
    "version": 3
   },
   "file_extension": ".py",
   "mimetype": "text/x-python",
   "name": "python",
   "nbconvert_exporter": "python",
   "pygments_lexer": "ipython3",
   "version": "3.5.2"
  }
 },
 "nbformat": 4,
 "nbformat_minor": 2
}
